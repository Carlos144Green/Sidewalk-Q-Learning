{
  "nbformat": 4,
  "nbformat_minor": 0,
  "metadata": {
    "colab": {
      "name": "Hw5_QLearning.ipynb",
      "provenance": []
    },
    "kernelspec": {
      "display_name": "Python 3",
      "name": "python3"
    },
    "language_info": {
      "name": "python"
    }
  },
  "cells": [
    {
      "cell_type": "code",
      "metadata": {
        "id": "LabZsJ3YQqqb"
      },
      "source": [
        "import random \n",
        "import time\n",
        "import numpy as np \n",
        "import matplotlib.pyplot as plt\n",
        "from IPython.display import clear_output\n",
        "from matplotlib.colors import LogNorm\n",
        "import numpy as np\n",
        "import matplotlib.pyplot as plt\n",
        "from matplotlib import cm\n",
        "from matplotlib.colors import ListedColormap, LinearSegmentedColormap"
      ],
      "execution_count": null,
      "outputs": []
    },
    {
      "cell_type": "code",
      "metadata": {
        "id": "y7gH6t1tRBJW"
      },
      "source": [
        "# Size of Sidewalk\n",
        "rowz = 6\n",
        "columnz = 25\n",
        "# Set Values\n",
        "sidewalk = np.zeros(rowz*columnz)\n",
        "litterChance = .2\n",
        "wallChance = .2\n",
        "\n",
        "# Place Litter and Walls\n",
        "for tile in range(len(sidewalk)):\n",
        "  litterDecide = random.random()\n",
        "  wallDecide = random.random()\n",
        "  sidewalk[tile] = -1\n",
        "  if litterChance > litterDecide:\n",
        "    sidewalk[tile] = .5\n",
        "  if wallChance > wallDecide:\n",
        "    sidewalk[tile] = -20\n",
        "\n",
        "# Make 2D array\n",
        "sidewalk = np.reshape(sidewalk,(rowz,columnz))\n",
        "\n",
        "# Assign Start and End\n",
        "for tile in range(sidewalk.shape[0]):\n",
        "  sidewalk[tile][0] = -1\n",
        "  sidewalk[tile][-1] = 100\n",
        "\n",
        "untouchedSidewalk = sidewalk.copy()\n",
        "# # Flatten\n",
        "# sidewalk = sidewalk.ravel()"
      ],
      "execution_count": null,
      "outputs": []
    },
    {
      "cell_type": "code",
      "metadata": {
        "id": "CrW0MNtmfxar"
      },
      "source": [
        "def step_math(state, action):\n",
        "  #0= Forward, 1= Right, 2= Left, 3= Back\n",
        "  if action == 0:\n",
        "    move_direction = 1    \n",
        "  elif action ==1:\n",
        "    move_direction = -sidewalk.shape[1]\n",
        "  elif action ==2:\n",
        "    move_direction = sidewalk.shape[1]\n",
        "  else:\n",
        "    move_direction = -1\n",
        "  new_state = state + move_direction\n",
        "  return new_state\n",
        "\n",
        "def steps(exploration_rate, sidewalk, state, q_table):\n",
        "  exploration_rate_threshold = random.uniform(0, 1)\n",
        "  new_state = -1\n",
        "  # Exploitation\n",
        "  if exploration_rate_threshold > exploration_rate: \n",
        "    action = np.argmax(q_table[state,:]) \n",
        "    new_state = step_math(state, action)\n",
        "\n",
        "  # Exploration\n",
        "  else: \n",
        "    while (new_state <0) or (new_state >= sidewalk.shape[0]*sidewalk.shape[1]):\n",
        "      if state % 25 == 0:\n",
        "        action = random.randint(0,actions-2)\n",
        "      else:\n",
        "        action = random.randint(0,actions-1)\n",
        "      new_state = step_math(state, action)\n",
        "      \n",
        "\n",
        "  # if (new_state <0) or (new_state >= 150):\n",
        "  #   reward = -100\n",
        "  # else:\n",
        "  flat_sidewalk = sidewalk.ravel()\n",
        "  reward = flat_sidewalk[new_state]\n",
        "  if reward == .5:\n",
        "    # print(flat_sidewalk.shape)\n",
        "    flat_sidewalk[new_state] = -1\n",
        "    sidewalk = np.reshape(flat_sidewalk,(rowz,columnz))\n",
        "\n",
        "  if (reward == 100) or (reward == -100):\n",
        "    done = True\n",
        "  else:\n",
        "    done = False\n",
        "\n",
        "  return new_state, reward, done, action"
      ],
      "execution_count": null,
      "outputs": []
    },
    {
      "cell_type": "code",
      "metadata": {
        "id": "8Mf-7XTG4Z0r"
      },
      "source": [
        "# Set Values \n",
        "rewards_all_episodes = []\n",
        "total_episodes = 0\n",
        "num_episodes = 5000\n",
        "max_steps_per_episode = 200\n",
        "\n",
        "learning_rate = 0.1\n",
        "discount_rate = 0.99\n",
        "\n",
        "exploration_rate = 1\n",
        "max_exploration_rate = 1\n",
        "min_exploration_rate = 0.001\n",
        "exploration_decay_rate = 0.00075\n",
        "\n",
        "actions = 4\n",
        "\n",
        "# Make Qmap\n",
        "q_table  = np.zeros([sidewalk.shape[0]*sidewalk.shape[1],actions])\n",
        "\n",
        "# Make Grass\n",
        "for i in range(sidewalk.shape[1]):\n",
        "  q_table[i][1] = -100\n",
        "  q_table[-i-1][2] = -100\n",
        "for i in range(0,q_table.shape[0],25):\n",
        "  q_table[i][3] = -100\n",
        "  q_table[-i-1][0] = -100\n",
        "\n",
        "\n",
        "# print(q_table)"
      ],
      "execution_count": null,
      "outputs": []
    },
    {
      "cell_type": "code",
      "metadata": {
        "id": "tmFrEn6y4Zx-",
        "colab": {
          "base_uri": "https://localhost:8080/"
        },
        "outputId": "f761a5a8-ba2c-43c8-a73f-285831558759"
      },
      "source": [
        "complete = 0\n",
        "for episode in range(num_episodes):\n",
        "    print(\"\\repisode: \", episode, sep=' ', end='', flush=True)\n",
        "    # print(\"episode: \", episode)\n",
        "    state = 0\n",
        "    sidewalk = untouchedSidewalk.copy()\n",
        "    done = False\n",
        "    rewards_current_episode = 0\n",
        "    storeState = []\n",
        "    for step in range(max_steps_per_episode): \n",
        "      new_state, reward, done, action = steps(exploration_rate, sidewalk, state, q_table)\n",
        "      # print(new_state, reward, done, action)\n",
        "      \n",
        "      # Update Q-table for Q(s,a)\n",
        "      q_table[state, action] = q_table[state, action] * (1 - learning_rate) + learning_rate * (reward + discount_rate * np.max(q_table[new_state, :]))\n",
        "\n",
        "      state = new_state\n",
        "      rewards_current_episode += reward \n",
        "      storeState.append(state)  \n",
        "      # print(reward)\n",
        "      # print(state)\n",
        "      if done == True: \n",
        "        complete += 1\n",
        "        # print(\"Last State Location: \", new_state)\n",
        "        # print(\"Reward: \", reward)\n",
        "        break\n",
        "    \n",
        "    # Exploration rate decay\n",
        "    exploration_rate = min_exploration_rate + (max_exploration_rate - min_exploration_rate) * np.exp(-exploration_decay_rate*episode)\n",
        "    total_episodes += 1\n",
        "    rewards_all_episodes.append(rewards_current_episode)\n",
        "print(\"Completed: \", complete)\n",
        "print(total_episodes)\n",
        "print(exploration_rate)"
      ],
      "execution_count": null,
      "outputs": [
        {
          "output_type": "stream",
          "name": "stdout",
          "text": [
            "episode:  4999Completed:  4772\n",
            "10000\n",
            "0.024511855390639617\n"
          ]
        }
      ]
    },
    {
      "cell_type": "code",
      "metadata": {
        "colab": {
          "base_uri": "https://localhost:8080/",
          "height": 244
        },
        "id": "8ov1-Y62xri5",
        "outputId": "c74970df-1fac-4b59-a91c-2f9a7a9bcbd5"
      },
      "source": [
        "cmap = ListedColormap([\"black\", \"grey\", \"skyblue\", \"yellow\", \"lawngreen\"])\n",
        "\n",
        "fig, axs = plt.subplots(1, figsize=(16, 3), squeeze=False)\n",
        "\n",
        "for [ax, cmap] in zip(axs.flat, [cmap]):\n",
        "    ax.set_title('Reward Earned: ' + str(rewards_current_episode) + \", Iterations: \"+ str(total_episodes))\n",
        "    psm = ax.pcolor(untouchedSidewalk, cmap=cmap, vmin=-12, vmax=17, edgecolors='k', linewidths=2)\n",
        "    fig.colorbar(psm, ax=ax)\n",
        "\n",
        "\n",
        "arr = np.zeros([sidewalk.shape[0]*sidewalk.shape[1]])\n",
        "for i in storeState:\n",
        "  arr[i] = 1\n",
        "arr = np.reshape(arr,(sidewalk.shape[0],sidewalk.shape[1]))\n",
        "\n",
        "x = [.5]\n",
        "y = [.5]\n",
        "for rows in range(len(arr)):\n",
        "  for columns in range(len(arr[0])):\n",
        "    if arr[rows][columns] != 0:\n",
        "      x.append(columns +.5)\n",
        "      y.append(rows +.5)\n",
        "\n",
        "\n",
        "\n",
        "ax.plot(x,y,\"r\",marker='*', linewidth=0, markersize=15)\n",
        "plt.show()\n",
        "\n",
        "print(storeState)"
      ],
      "execution_count": null,
      "outputs": [
        {
          "output_type": "display_data",
          "data": {
            "image/png": "[encoded data removed]",
            "text/plain": [
              "<Figure size 1152x216 with 2 Axes>"
            ]
          },
          "metadata": {
            "needs_background": "light"
          }
        },
        {
          "output_type": "stream",
          "name": "stdout",
          "text": [
            "[1, 2, 27, 28, 29, 30, 55, 56, 57, 58, 59, 84, 85, 86, 61, 62, 63, 64, 65, 66, 67, 68, 69, 70, 71, 72, 73, 74]\n"
          ]
        }
      ]
    }
  ]
}